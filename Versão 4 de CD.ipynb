{
 "cells": [
  {
   "cell_type": "markdown",
   "metadata": {},
   "source": [
    "## Qual a relação do acesso à internet banda larga domiciliar com a renda per capita nas áreas rurais e urbanas das regiões brasileiras?\n",
    "\n"
   ]
  },
  {
   "cell_type": "code",
   "execution_count": 110,
   "metadata": {
    "collapsed": true
   },
   "outputs": [],
   "source": [
    "# Região+Censitária\n",
    "# Renda + (Região+Censitária)\n",
    "# Banda larga Domicílio + [Renda+(Região+Censitária)]"
   ]
  },
  {
   "cell_type": "code",
   "execution_count": 111,
   "metadata": {
    "collapsed": true
   },
   "outputs": [],
   "source": [
    "%matplotlib inline\n",
    "import pandas as pd\n",
    "import matplotlib.pyplot as plt\n",
    "import numpy as np\n",
    "from numpy import zeros_like\n",
    "import os "
   ]
  },
  {
   "cell_type": "code",
   "execution_count": 112,
   "metadata": {},
   "outputs": [
    {
     "name": "stdout",
     "output_type": "stream",
     "text": [
      "Esperamos trabalhar no diretório\n",
      "C:\\Users\\Ester Quintino\\Documents\\GitHub\\CienciaDosDados\n"
     ]
    }
   ],
   "source": [
    "print('Esperamos trabalhar no diretório')\n",
    "print(os.getcwd())"
   ]
  },
  {
   "cell_type": "code",
   "execution_count": 113,
   "metadata": {
    "collapsed": true
   },
   "outputs": [],
   "source": [
    "Documento = pd.read_csv('DOM2015csv.zip', compression='zip', header=0, sep=',', quotechar='\"')"
   ]
  },
  {
   "cell_type": "code",
   "execution_count": 114,
   "metadata": {
    "collapsed": true
   },
   "outputs": [],
   "source": [
    "#dados_não_nulos=dados_não_nulos.rename(columns={\"V02322\":\"NetNoDomicílio\",\"V4105\":\"SituaçãoCensitária\",\"V4621\":\"RendaPercapita\",\"V02426\":\"AcessoPorBandaLarga\",\"UF\":\"UF\"})\n"
   ]
  },
  {
   "cell_type": "code",
   "execution_count": 115,
   "metadata": {},
   "outputs": [
    {
     "data": {
      "text/html": [
       "<div>\n",
       "<style>\n",
       "    .dataframe thead tr:only-child th {\n",
       "        text-align: right;\n",
       "    }\n",
       "\n",
       "    .dataframe thead th {\n",
       "        text-align: left;\n",
       "    }\n",
       "\n",
       "    .dataframe tbody tr th {\n",
       "        vertical-align: top;\n",
       "    }\n",
       "</style>\n",
       "<table border=\"1\" class=\"dataframe\">\n",
       "  <thead>\n",
       "    <tr style=\"text-align: right;\">\n",
       "      <th></th>\n",
       "      <th>V02322</th>\n",
       "      <th>V4105</th>\n",
       "      <th>V4621</th>\n",
       "      <th>V02426</th>\n",
       "      <th>UF</th>\n",
       "    </tr>\n",
       "  </thead>\n",
       "  <tbody>\n",
       "    <tr>\n",
       "      <th>0</th>\n",
       "      <td>4.0</td>\n",
       "      <td>1</td>\n",
       "      <td>800.0</td>\n",
       "      <td>NaN</td>\n",
       "      <td>11</td>\n",
       "    </tr>\n",
       "    <tr>\n",
       "      <th>1</th>\n",
       "      <td>NaN</td>\n",
       "      <td>1</td>\n",
       "      <td>NaN</td>\n",
       "      <td>NaN</td>\n",
       "      <td>11</td>\n",
       "    </tr>\n",
       "    <tr>\n",
       "      <th>2</th>\n",
       "      <td>2.0</td>\n",
       "      <td>1</td>\n",
       "      <td>1150.0</td>\n",
       "      <td>2.0</td>\n",
       "      <td>11</td>\n",
       "    </tr>\n",
       "    <tr>\n",
       "      <th>3</th>\n",
       "      <td>2.0</td>\n",
       "      <td>1</td>\n",
       "      <td>793.0</td>\n",
       "      <td>2.0</td>\n",
       "      <td>11</td>\n",
       "    </tr>\n",
       "    <tr>\n",
       "      <th>4</th>\n",
       "      <td>4.0</td>\n",
       "      <td>1</td>\n",
       "      <td>2900.0</td>\n",
       "      <td>NaN</td>\n",
       "      <td>11</td>\n",
       "    </tr>\n",
       "  </tbody>\n",
       "</table>\n",
       "</div>"
      ],
      "text/plain": [
       "   V02322  V4105   V4621  V02426  UF\n",
       "0     4.0      1   800.0     NaN  11\n",
       "1     NaN      1     NaN     NaN  11\n",
       "2     2.0      1  1150.0     2.0  11\n",
       "3     2.0      1   793.0     2.0  11\n",
       "4     4.0      1  2900.0     NaN  11"
      ]
     },
     "execution_count": 115,
     "metadata": {},
     "output_type": "execute_result"
    }
   ],
   "source": [
    "dados=pd.read_csv('DOM2015csv.zip', compression='zip', header=0, sep=',', quotechar='\"')\n",
    "dados_resumidos=dados.loc[:,[\"V02322\",\"V4105\",\"V4621\",\"V02426\",\"UF\"]]#.dropna(axis=0)\n",
    "dados_resumidos.to_csv(\"resumo.csv\")\n",
    "dados_resumidos.head()\n"
   ]
  },
  {
   "cell_type": "code",
   "execution_count": 116,
   "metadata": {},
   "outputs": [
    {
     "data": {
      "text/html": [
       "<div>\n",
       "<style>\n",
       "    .dataframe thead tr:only-child th {\n",
       "        text-align: right;\n",
       "    }\n",
       "\n",
       "    .dataframe thead th {\n",
       "        text-align: left;\n",
       "    }\n",
       "\n",
       "    .dataframe tbody tr th {\n",
       "        vertical-align: top;\n",
       "    }\n",
       "</style>\n",
       "<table border=\"1\" class=\"dataframe\">\n",
       "  <thead>\n",
       "    <tr style=\"text-align: right;\">\n",
       "      <th></th>\n",
       "      <th>V02322</th>\n",
       "      <th>V4105</th>\n",
       "      <th>V4621</th>\n",
       "      <th>V02426</th>\n",
       "      <th>UF</th>\n",
       "    </tr>\n",
       "  </thead>\n",
       "  <tbody>\n",
       "    <tr>\n",
       "      <th>0</th>\n",
       "      <td>4.0</td>\n",
       "      <td>1</td>\n",
       "      <td>800.0</td>\n",
       "      <td>NaN</td>\n",
       "      <td>11</td>\n",
       "    </tr>\n",
       "    <tr>\n",
       "      <th>1</th>\n",
       "      <td>NaN</td>\n",
       "      <td>1</td>\n",
       "      <td>NaN</td>\n",
       "      <td>NaN</td>\n",
       "      <td>11</td>\n",
       "    </tr>\n",
       "    <tr>\n",
       "      <th>2</th>\n",
       "      <td>2.0</td>\n",
       "      <td>1</td>\n",
       "      <td>1150.0</td>\n",
       "      <td>2.0</td>\n",
       "      <td>11</td>\n",
       "    </tr>\n",
       "    <tr>\n",
       "      <th>3</th>\n",
       "      <td>2.0</td>\n",
       "      <td>1</td>\n",
       "      <td>793.0</td>\n",
       "      <td>2.0</td>\n",
       "      <td>11</td>\n",
       "    </tr>\n",
       "    <tr>\n",
       "      <th>4</th>\n",
       "      <td>4.0</td>\n",
       "      <td>1</td>\n",
       "      <td>2900.0</td>\n",
       "      <td>NaN</td>\n",
       "      <td>11</td>\n",
       "    </tr>\n",
       "  </tbody>\n",
       "</table>\n",
       "</div>"
      ],
      "text/plain": [
       "   V02322  V4105   V4621  V02426  UF\n",
       "0     4.0      1   800.0     NaN  11\n",
       "1     NaN      1     NaN     NaN  11\n",
       "2     2.0      1  1150.0     2.0  11\n",
       "3     2.0      1   793.0     2.0  11\n",
       "4     4.0      1  2900.0     NaN  11"
      ]
     },
     "execution_count": 116,
     "metadata": {},
     "output_type": "execute_result"
    }
   ],
   "source": [
    "dados_não_nulos = dados_resumidos\n",
    "dados_não_nulos.head()"
   ]
  },
  {
   "cell_type": "code",
   "execution_count": 117,
   "metadata": {},
   "outputs": [
    {
     "name": "stderr",
     "output_type": "stream",
     "text": [
      "C:\\Anaconda3\\lib\\site-packages\\pandas\\core\\generic.py:2999: SettingWithCopyWarning: \n",
      "A value is trying to be set on a copy of a slice from a DataFrame.\n",
      "Try using .loc[row_indexer,col_indexer] = value instead\n",
      "\n",
      "See the caveats in the documentation: http://pandas.pydata.org/pandas-docs/stable/indexing.html#indexing-view-versus-copy\n",
      "  self[name] = value\n"
     ]
    }
   ],
   "source": [
    "#Mudanças categorias\n",
    "dados_não_nulos.V02322=dados.V02322.astype('category')\n",
    "dados_não_nulos.V02322.cat.categories=([\"Sim\",\"Não\"])\n",
    "dados_não_nulos.V02426=dados.V02322.astype('category')\n",
    "dados_não_nulos.V02426.cat.categories=([\"Sim\",\"Não\"])\n",
    "\n",
    "dados_não_nulos.UF=dados.UF.astype('category')\n",
    "dados_não_nulos.UF.cat.categories=([\"Rondônia\",\"Acre\",\"Amazonas\",\"Roraima\",\"Pará\",\"Amapá\",\"Tocantins\",\"Maranhão\",\"Piauí\",\"Ceará\",\"Rio Grande do Norte\",\"Paraíba\",\"Pernambuco\",\"Alagoas\",\"Sergipe\",\"Bahia\",\"Minas Gerais\",\"Espírito Santo\",\"Rio de Janeiro\",\"São Paulo\",\"Paraná\",\"Santa Catarina\",\"Rio Grande do Sul\",\"Mato Grosso do Sul\",\"Mato Grosso\",\"Goías\",\"Distrito Federal\"])\n",
    "dados_não_nulos.loc[(dados_não_nulos.UF==\"Rondônia\")|(dados_não_nulos.UF==\"Acre\")|(dados_não_nulos.UF==\"Amazonas\")|(dados_não_nulos.UF==\"Roraima\")|(dados_não_nulos.UF==\"Pará\")|(dados_não_nulos.UF==\"Amapá\")|(dados_não_nulos.UF==\"Tocantins\")|(dados_não_nulos.UF==\"Maranhão\")|(dados_não_nulos.UF==\"Piauí\")|(dados_não_nulos.UF==\"Ceará\")|(dados_não_nulos.UF==\"Rio Grande do Norte\")|(dados_não_nulos.UF==\"Paraíba\")|(dados_não_nulos.UF==\"Pernambuco\")|(dados_não_nulos.UF==\"Alagoas\")|(dados_não_nulos.UF==\"Sergipe\")|(dados_não_nulos.UF==\"Bahia\")|(dados_não_nulos.UF==\"Minas Gerais\")|(dados_não_nulos.UF==\"Espírito Santo\")|(dados_não_nulos.UF==\"Rio de Janeiro\")|(dados_não_nulos.UF==\"São Paulo\")|(dados_não_nulos.UF==\"Paraná\")|(dados_não_nulos.UF==\"Santa Catarina\")|(dados_não_nulos.UF==\"Rio Grande do Sul\")|(dados_não_nulos.UF==\"Mato Grosso do Sul\")|(dados_não_nulos.UF==\"Mato Grosso\")|(dados_não_nulos.UF==\"Goiás\")|(dados_não_nulos.UF==\"Distrito Federal\"),\"Regiões\"]=\"Brasil\"\n",
    "dados_não_nulos=dados_não_nulos.dropna(axis=0) #Dropna:Eliminação dos NAN's.\n",
    "dados_não_nulos\n",
    "\n",
    "dados_não_nulos.V4105=dados.V4105.astype('category')\n",
    "dados_não_nulos.V4105.cat.categories = ([\"URBANA - Cidade ou vila, área urbanizada\",\"URBANA - Cidade ou vila, área não urbanizada\",\"URBANA - Área urbana isolada\",\"RURAL - Aglomerado rural de extensão urbana \",\"RURAL - Aglomerado rural, isolado, povoado\",\"RURAL - Aglomerado rural, isolado, núcleo\",\"RURAL- Aglomerado rural, isolado, outros aglomerados\", \"RURAL - Zona rural exclusive aglomerado rural\"])\n"
   ]
  },
  {
   "cell_type": "code",
   "execution_count": 118,
   "metadata": {},
   "outputs": [
    {
     "name": "stderr",
     "output_type": "stream",
     "text": [
      "C:\\Anaconda3\\lib\\site-packages\\pandas\\core\\indexing.py:337: SettingWithCopyWarning: \n",
      "A value is trying to be set on a copy of a slice from a DataFrame.\n",
      "Try using .loc[row_indexer,col_indexer] = value instead\n",
      "\n",
      "See the caveats in the documentation: http://pandas.pydata.org/pandas-docs/stable/indexing.html#indexing-view-versus-copy\n",
      "  self.obj[key] = _infer_fill_value(value)\n",
      "C:\\Anaconda3\\lib\\site-packages\\pandas\\core\\indexing.py:517: SettingWithCopyWarning: \n",
      "A value is trying to be set on a copy of a slice from a DataFrame.\n",
      "Try using .loc[row_indexer,col_indexer] = value instead\n",
      "\n",
      "See the caveats in the documentation: http://pandas.pydata.org/pandas-docs/stable/indexing.html#indexing-view-versus-copy\n",
      "  self.obj[item] = s\n"
     ]
    },
    {
     "data": {
      "text/html": [
       "<div>\n",
       "<style>\n",
       "    .dataframe thead tr:only-child th {\n",
       "        text-align: right;\n",
       "    }\n",
       "\n",
       "    .dataframe thead th {\n",
       "        text-align: left;\n",
       "    }\n",
       "\n",
       "    .dataframe tbody tr th {\n",
       "        vertical-align: top;\n",
       "    }\n",
       "</style>\n",
       "<table border=\"1\" class=\"dataframe\">\n",
       "  <thead>\n",
       "    <tr style=\"text-align: right;\">\n",
       "      <th></th>\n",
       "      <th>V02322</th>\n",
       "      <th>V4105</th>\n",
       "      <th>V4621</th>\n",
       "      <th>V02426</th>\n",
       "      <th>UF</th>\n",
       "      <th>Regiões</th>\n",
       "      <th>Regiao</th>\n",
       "    </tr>\n",
       "  </thead>\n",
       "  <tbody>\n",
       "    <tr>\n",
       "      <th>0</th>\n",
       "      <td>Não</td>\n",
       "      <td>URBANA - Cidade ou vila, área urbanizada</td>\n",
       "      <td>800.0</td>\n",
       "      <td>Não</td>\n",
       "      <td>Rondônia</td>\n",
       "      <td>Brasil</td>\n",
       "      <td>Norte</td>\n",
       "    </tr>\n",
       "    <tr>\n",
       "      <th>2</th>\n",
       "      <td>Sim</td>\n",
       "      <td>URBANA - Cidade ou vila, área urbanizada</td>\n",
       "      <td>1150.0</td>\n",
       "      <td>Sim</td>\n",
       "      <td>Rondônia</td>\n",
       "      <td>Brasil</td>\n",
       "      <td>Norte</td>\n",
       "    </tr>\n",
       "    <tr>\n",
       "      <th>3</th>\n",
       "      <td>Sim</td>\n",
       "      <td>URBANA - Cidade ou vila, área urbanizada</td>\n",
       "      <td>793.0</td>\n",
       "      <td>Sim</td>\n",
       "      <td>Rondônia</td>\n",
       "      <td>Brasil</td>\n",
       "      <td>Norte</td>\n",
       "    </tr>\n",
       "    <tr>\n",
       "      <th>4</th>\n",
       "      <td>Não</td>\n",
       "      <td>URBANA - Cidade ou vila, área urbanizada</td>\n",
       "      <td>2900.0</td>\n",
       "      <td>Não</td>\n",
       "      <td>Rondônia</td>\n",
       "      <td>Brasil</td>\n",
       "      <td>Norte</td>\n",
       "    </tr>\n",
       "    <tr>\n",
       "      <th>5</th>\n",
       "      <td>Sim</td>\n",
       "      <td>URBANA - Cidade ou vila, área urbanizada</td>\n",
       "      <td>1990.0</td>\n",
       "      <td>Sim</td>\n",
       "      <td>Rondônia</td>\n",
       "      <td>Brasil</td>\n",
       "      <td>Norte</td>\n",
       "    </tr>\n",
       "  </tbody>\n",
       "</table>\n",
       "</div>"
      ],
      "text/plain": [
       "  V02322                                     V4105   V4621 V02426        UF  \\\n",
       "0    Não  URBANA - Cidade ou vila, área urbanizada   800.0    Não  Rondônia   \n",
       "2    Sim  URBANA - Cidade ou vila, área urbanizada  1150.0    Sim  Rondônia   \n",
       "3    Sim  URBANA - Cidade ou vila, área urbanizada   793.0    Sim  Rondônia   \n",
       "4    Não  URBANA - Cidade ou vila, área urbanizada  2900.0    Não  Rondônia   \n",
       "5    Sim  URBANA - Cidade ou vila, área urbanizada  1990.0    Sim  Rondônia   \n",
       "\n",
       "  Regiões Regiao  \n",
       "0  Brasil  Norte  \n",
       "2  Brasil  Norte  \n",
       "3  Brasil  Norte  \n",
       "4  Brasil  Norte  \n",
       "5  Brasil  Norte  "
      ]
     },
     "execution_count": 118,
     "metadata": {},
     "output_type": "execute_result"
    }
   ],
   "source": [
    "dados_não_nulos.loc[(dados_não_nulos.UF=='Rondônia') | (dados_não_nulos.UF=='Acre') | (dados_não_nulos.UF=='Amazonas') | (dados_não_nulos.UF=='Roraima') | (dados_não_nulos.UF=='Pará') | (dados_não_nulos.UF=='Amapá') | (dados_não_nulos.UF=='Tocantins'),'Regiao'] = 'Norte'\n",
    "dados_não_nulos.loc[(dados_não_nulos.UF=='Maranhão') | (dados_não_nulos.UF=='Piaui') | (dados_não_nulos.UF=='Caerá') | (dados_não_nulos.UF=='Rio Grande do Norte') | (dados_não_nulos.UF=='Paraíba') | (dados_não_nulos.UF=='Pernambuco') | (dados_não_nulos.UF=='Alagoas') | (dados_não_nulos.UF=='Sergipe') | (dados_não_nulos.UF=='Bahia'),'Regiao'] = 'Nordeste'\n",
    "dados_não_nulos.loc[(dados_não_nulos.UF=='Minas Gerais') | (dados_não_nulos.UF=='Espirito Santo') | (dados_não_nulos.UF=='Rio de Janeiro') | (dados_não_nulos.UF=='São Paulo'),'Regiao'] = 'Sudeste'\n",
    "dados_não_nulos.loc[(dados_não_nulos.UF=='Paraná') | (dados_não_nulos.UF=='Santa Catarina') | (dados_não_nulos.UF=='Rio Grande do Sul'),'Regiao'] = 'Sul'\n",
    "dados_não_nulos.loc[(dados_não_nulos.UF=='Mato Grosso do Sul') | (dados_não_nulos.UF=='Mato Grosso') | (dados_não_nulos.UF=='Goiás') | (dados_não_nulos.UF=='Distrito Federal'),'Regiao'] = 'Centroeste'\n",
    "dados_não_nulos.head()"
   ]
  },
  {
   "cell_type": "code",
   "execution_count": 119,
   "metadata": {},
   "outputs": [
    {
     "data": {
      "text/html": [
       "<div>\n",
       "<style>\n",
       "    .dataframe thead tr:only-child th {\n",
       "        text-align: right;\n",
       "    }\n",
       "\n",
       "    .dataframe thead th {\n",
       "        text-align: left;\n",
       "    }\n",
       "\n",
       "    .dataframe tbody tr th {\n",
       "        vertical-align: top;\n",
       "    }\n",
       "</style>\n",
       "<table border=\"1\" class=\"dataframe\">\n",
       "  <thead>\n",
       "    <tr style=\"text-align: right;\">\n",
       "      <th></th>\n",
       "      <th>V02322</th>\n",
       "      <th>V4105</th>\n",
       "      <th>V4621</th>\n",
       "      <th>V02426</th>\n",
       "      <th>UF</th>\n",
       "      <th>Regiões</th>\n",
       "      <th>Regiao</th>\n",
       "    </tr>\n",
       "  </thead>\n",
       "  <tbody>\n",
       "    <tr>\n",
       "      <th>0</th>\n",
       "      <td>Não</td>\n",
       "      <td>URBANA - Cidade ou vila, área urbanizada</td>\n",
       "      <td>800.0</td>\n",
       "      <td>Não</td>\n",
       "      <td>Rondônia</td>\n",
       "      <td>Brasil</td>\n",
       "      <td>Norte</td>\n",
       "    </tr>\n",
       "    <tr>\n",
       "      <th>2</th>\n",
       "      <td>Sim</td>\n",
       "      <td>URBANA - Cidade ou vila, área urbanizada</td>\n",
       "      <td>1150.0</td>\n",
       "      <td>Sim</td>\n",
       "      <td>Rondônia</td>\n",
       "      <td>Brasil</td>\n",
       "      <td>Norte</td>\n",
       "    </tr>\n",
       "    <tr>\n",
       "      <th>3</th>\n",
       "      <td>Sim</td>\n",
       "      <td>URBANA - Cidade ou vila, área urbanizada</td>\n",
       "      <td>793.0</td>\n",
       "      <td>Sim</td>\n",
       "      <td>Rondônia</td>\n",
       "      <td>Brasil</td>\n",
       "      <td>Norte</td>\n",
       "    </tr>\n",
       "    <tr>\n",
       "      <th>4</th>\n",
       "      <td>Não</td>\n",
       "      <td>URBANA - Cidade ou vila, área urbanizada</td>\n",
       "      <td>2900.0</td>\n",
       "      <td>Não</td>\n",
       "      <td>Rondônia</td>\n",
       "      <td>Brasil</td>\n",
       "      <td>Norte</td>\n",
       "    </tr>\n",
       "    <tr>\n",
       "      <th>5</th>\n",
       "      <td>Sim</td>\n",
       "      <td>URBANA - Cidade ou vila, área urbanizada</td>\n",
       "      <td>1990.0</td>\n",
       "      <td>Sim</td>\n",
       "      <td>Rondônia</td>\n",
       "      <td>Brasil</td>\n",
       "      <td>Norte</td>\n",
       "    </tr>\n",
       "  </tbody>\n",
       "</table>\n",
       "</div>"
      ],
      "text/plain": [
       "  V02322                                     V4105   V4621 V02426        UF  \\\n",
       "0    Não  URBANA - Cidade ou vila, área urbanizada   800.0    Não  Rondônia   \n",
       "2    Sim  URBANA - Cidade ou vila, área urbanizada  1150.0    Sim  Rondônia   \n",
       "3    Sim  URBANA - Cidade ou vila, área urbanizada   793.0    Sim  Rondônia   \n",
       "4    Não  URBANA - Cidade ou vila, área urbanizada  2900.0    Não  Rondônia   \n",
       "5    Sim  URBANA - Cidade ou vila, área urbanizada  1990.0    Sim  Rondônia   \n",
       "\n",
       "  Regiões Regiao  \n",
       "0  Brasil  Norte  \n",
       "2  Brasil  Norte  \n",
       "3  Brasil  Norte  \n",
       "4  Brasil  Norte  \n",
       "5  Brasil  Norte  "
      ]
     },
     "execution_count": 119,
     "metadata": {},
     "output_type": "execute_result"
    }
   ],
   "source": [
    "dados_não_nulos=dados_não_nulos[dados_não_nulos['V4621']!=999999999999.0]\n",
    "dados_não_nulos.head()\n"
   ]
  },
  {
   "cell_type": "code",
   "execution_count": 120,
   "metadata": {},
   "outputs": [
    {
     "data": {
      "text/plain": [
       "count    110483.000000\n",
       "mean       1253.139949\n",
       "std        1979.311037\n",
       "min           0.000000\n",
       "25%         411.000000\n",
       "50%         788.000000\n",
       "75%        1329.000000\n",
       "max      150000.000000\n",
       "Name: V4621, dtype: float64"
      ]
     },
     "execution_count": 120,
     "metadata": {},
     "output_type": "execute_result"
    }
   ],
   "source": [
    "renda = dados_não_nulos.V4621\n",
    "renda.describe()"
   ]
  },
  {
   "cell_type": "code",
   "execution_count": 121,
   "metadata": {},
   "outputs": [
    {
     "name": "stdout",
     "output_type": "stream",
     "text": [
      "Frequências relativas:\n",
      "[0.0, 234.25)       10.9\n",
      "[234.25, 468.5)     20.5\n",
      "[468.5, 937.0)      36.0\n",
      "[937.0, 1874.0)     25.5\n",
      "[1874.0, 2771.5)     7.2\n",
      "Name: V4621, dtype: float64 \n",
      "\n"
     ]
    }
   ],
   "source": [
    "faixa = (0,937/4 ,937/2, 937, 937*2,2771.5)\n",
    "rendarelativa = pd.cut(renda, faixa, False)\n",
    "print('Frequências relativas:')\n",
    "ut1 = (rendarelativa.value_counts(sort=False, normalize=True)*100).round(decimals=1)\n",
    "print(ut1,'\\n')"
   ]
  },
  {
   "cell_type": "markdown",
   "metadata": {},
   "source": [
    "Gráfico 2 - Relação entre Renda Percapita Domiciliar e Densidade\n",
    "Gráfico 1 - Relação entre Renda Percapita Domiciliar e  Frequência Relativa (dada em porcentagem)"
   ]
  },
  {
   "cell_type": "code",
   "execution_count": 122,
   "metadata": {},
   "outputs": [
    {
     "data": {
      "image/png": "[encoded data removed]",
      "text/plain": [
       "<matplotlib.figure.Figure at 0x252222f3f98>"
      ]
     },
     "metadata": {},
     "output_type": "display_data"
    }
   ],
   "source": [
    "fig = plt.figure(figsize=(11, 5))\n",
    "plt.subplot(121)\n",
    "plot = renda.plot.hist(bins=faixa,title='Renda percapita domiciliar', figsize=(6, 6), normed=1, alpha=0.5)\n",
    "plt.ylabel('Densidade')\n",
    "plt.xlabel('renda (em reais)')\n",
    "\n",
    "plt.subplot(122)\n",
    "plot = renda.plot.hist(bins=faixa, title='Renda percapita domiciliar', weights=zeros_like(renda)+1./renda.size*100, figsize=(6, 6), color = ('g'), alpha=0.5)\n",
    "plt.ylabel('Frequência Relativa')\n",
    "plt.xlabel('renda (em reais)')\n",
    "\n",
    "plt.tight_layout()\n",
    "plt.show()"
   ]
  },
  {
   "cell_type": "markdown",
   "metadata": {},
   "source": [
    "É possível inferir que a maior parte das pessoas (aproximadamente 33 % do total), possuem entre 750-1000 reais\n",
    "de renda percapita."
   ]
  },
  {
   "cell_type": "markdown",
   "metadata": {},
   "source": [
    "Abaixo tem-se uma relação entre Renda Percapita Domiciliar e Região."
   ]
  },
  {
   "cell_type": "code",
   "execution_count": 123,
   "metadata": {},
   "outputs": [
    {
     "data": {
      "text/html": [
       "<div>\n",
       "<style>\n",
       "    .dataframe thead tr:only-child th {\n",
       "        text-align: right;\n",
       "    }\n",
       "\n",
       "    .dataframe thead th {\n",
       "        text-align: left;\n",
       "    }\n",
       "\n",
       "    .dataframe tbody tr th {\n",
       "        vertical-align: top;\n",
       "    }\n",
       "</style>\n",
       "<table border=\"1\" class=\"dataframe\">\n",
       "  <thead>\n",
       "    <tr style=\"text-align: right;\">\n",
       "      <th>Região</th>\n",
       "      <th>Centroeste</th>\n",
       "      <th>Nordeste</th>\n",
       "      <th>Norte</th>\n",
       "      <th>Sudeste</th>\n",
       "      <th>Sul</th>\n",
       "      <th>All</th>\n",
       "    </tr>\n",
       "    <tr>\n",
       "      <th>Renda per capita domiciliar (em salários mínimos)</th>\n",
       "      <th></th>\n",
       "      <th></th>\n",
       "      <th></th>\n",
       "      <th></th>\n",
       "      <th></th>\n",
       "      <th></th>\n",
       "    </tr>\n",
       "  </thead>\n",
       "  <tbody>\n",
       "    <tr>\n",
       "      <th>[0.0, 234.25)</th>\n",
       "      <td>0.3</td>\n",
       "      <td>4.8</td>\n",
       "      <td>2.6</td>\n",
       "      <td>1.8</td>\n",
       "      <td>0.8</td>\n",
       "      <td>10.3</td>\n",
       "    </tr>\n",
       "    <tr>\n",
       "      <th>[234.25, 468.5)</th>\n",
       "      <td>1.1</td>\n",
       "      <td>6.9</td>\n",
       "      <td>4.8</td>\n",
       "      <td>5.1</td>\n",
       "      <td>2.2</td>\n",
       "      <td>20.0</td>\n",
       "    </tr>\n",
       "    <tr>\n",
       "      <th>[468.5, 937.0)</th>\n",
       "      <td>2.5</td>\n",
       "      <td>9.2</td>\n",
       "      <td>5.9</td>\n",
       "      <td>11.9</td>\n",
       "      <td>6.5</td>\n",
       "      <td>36.0</td>\n",
       "    </tr>\n",
       "    <tr>\n",
       "      <th>[937.0, 1874.0)</th>\n",
       "      <td>2.2</td>\n",
       "      <td>4.0</td>\n",
       "      <td>3.1</td>\n",
       "      <td>10.2</td>\n",
       "      <td>6.8</td>\n",
       "      <td>26.3</td>\n",
       "    </tr>\n",
       "    <tr>\n",
       "      <th>[1874.0, 2771.5)</th>\n",
       "      <td>0.8</td>\n",
       "      <td>1.0</td>\n",
       "      <td>0.8</td>\n",
       "      <td>2.9</td>\n",
       "      <td>2.0</td>\n",
       "      <td>7.4</td>\n",
       "    </tr>\n",
       "    <tr>\n",
       "      <th>All</th>\n",
       "      <td>6.9</td>\n",
       "      <td>25.9</td>\n",
       "      <td>17.2</td>\n",
       "      <td>31.8</td>\n",
       "      <td>18.2</td>\n",
       "      <td>100.0</td>\n",
       "    </tr>\n",
       "  </tbody>\n",
       "</table>\n",
       "</div>"
      ],
      "text/plain": [
       "Região                                             Centroeste  Nordeste  \\\n",
       "Renda per capita domiciliar (em salários mínimos)                         \n",
       "[0.0, 234.25)                                             0.3       4.8   \n",
       "[234.25, 468.5)                                           1.1       6.9   \n",
       "[468.5, 937.0)                                            2.5       9.2   \n",
       "[937.0, 1874.0)                                           2.2       4.0   \n",
       "[1874.0, 2771.5)                                          0.8       1.0   \n",
       "All                                                       6.9      25.9   \n",
       "\n",
       "Região                                             Norte  Sudeste   Sul    All  \n",
       "Renda per capita domiciliar (em salários mínimos)                               \n",
       "[0.0, 234.25)                                        2.6      1.8   0.8   10.3  \n",
       "[234.25, 468.5)                                      4.8      5.1   2.2   20.0  \n",
       "[468.5, 937.0)                                       5.9     11.9   6.5   36.0  \n",
       "[937.0, 1874.0)                                      3.1     10.2   6.8   26.3  \n",
       "[1874.0, 2771.5)                                     0.8      2.9   2.0    7.4  \n",
       "All                                                 17.2     31.8  18.2  100.0  "
      ]
     },
     "execution_count": 123,
     "metadata": {},
     "output_type": "execute_result"
    }
   ],
   "source": [
    "#Relação Renda Percapita Domiciliar e Região\n",
    "renda_região=pd.crosstab( rendarelativa, dados_não_nulos.Regiao, margins=True, rownames=['Renda per capita domiciliar (em salários mínimos)'], colnames=['Região'], normalize=True)*100\n",
    "renda_região=renda_região.round(decimals=1)\n",
    "renda_região"
   ]
  },
  {
   "cell_type": "markdown",
   "metadata": {},
   "source": [
    "Percebe-se que a região que mais se destaca, isto é, com uma renda percapita domiciliar maior é o Sudeste."
   ]
  },
  {
   "cell_type": "markdown",
   "metadata": {},
   "source": [
    "Gráfico Ilustrativo da Renda Percapita Domiciliar , em relação a Região"
   ]
  },
  {
   "cell_type": "code",
   "execution_count": 124,
   "metadata": {},
   "outputs": [
    {
     "data": {
      "text/plain": [
       "<matplotlib.text.Text at 0x252260ce7b8>"
      ]
     },
     "execution_count": 124,
     "metadata": {},
     "output_type": "execute_result"
    },
    {
     "data": {
      "image/png": "[encoded data removed]",
      "text/plain": [
       "<matplotlib.figure.Figure at 0x252222ab4a8>"
      ]
     },
     "metadata": {},
     "output_type": "display_data"
    }
   ],
   "source": [
    "plot = renda_região.plot(kind='bar')\n",
    "plt.ylabel('Freq.Relativa (em %)')"
   ]
  },
  {
   "cell_type": "markdown",
   "metadata": {},
   "source": [
    "Relação Acesso à Internet e Região"
   ]
  },
  {
   "cell_type": "code",
   "execution_count": 125,
   "metadata": {},
   "outputs": [
    {
     "data": {
      "text/html": [
       "<div>\n",
       "<style>\n",
       "    .dataframe thead tr:only-child th {\n",
       "        text-align: right;\n",
       "    }\n",
       "\n",
       "    .dataframe thead th {\n",
       "        text-align: left;\n",
       "    }\n",
       "\n",
       "    .dataframe tbody tr th {\n",
       "        vertical-align: top;\n",
       "    }\n",
       "</style>\n",
       "<table border=\"1\" class=\"dataframe\">\n",
       "  <thead>\n",
       "    <tr style=\"text-align: right;\">\n",
       "      <th>Região</th>\n",
       "      <th>Centroeste</th>\n",
       "      <th>Nordeste</th>\n",
       "      <th>Norte</th>\n",
       "      <th>Sudeste</th>\n",
       "      <th>Sul</th>\n",
       "      <th>All</th>\n",
       "    </tr>\n",
       "    <tr>\n",
       "      <th>Acesso à Internet</th>\n",
       "      <th></th>\n",
       "      <th></th>\n",
       "      <th></th>\n",
       "      <th></th>\n",
       "      <th></th>\n",
       "      <th></th>\n",
       "    </tr>\n",
       "  </thead>\n",
       "  <tbody>\n",
       "    <tr>\n",
       "      <th>Sim</th>\n",
       "      <td>4.8</td>\n",
       "      <td>12.6</td>\n",
       "      <td>7.8</td>\n",
       "      <td>21.4</td>\n",
       "      <td>11.9</td>\n",
       "      <td>58.4</td>\n",
       "    </tr>\n",
       "    <tr>\n",
       "      <th>Não</th>\n",
       "      <td>2.7</td>\n",
       "      <td>12.1</td>\n",
       "      <td>8.6</td>\n",
       "      <td>11.3</td>\n",
       "      <td>7.0</td>\n",
       "      <td>41.6</td>\n",
       "    </tr>\n",
       "    <tr>\n",
       "      <th>All</th>\n",
       "      <td>7.5</td>\n",
       "      <td>24.7</td>\n",
       "      <td>16.4</td>\n",
       "      <td>32.6</td>\n",
       "      <td>18.8</td>\n",
       "      <td>100.0</td>\n",
       "    </tr>\n",
       "  </tbody>\n",
       "</table>\n",
       "</div>"
      ],
      "text/plain": [
       "Região             Centroeste  Nordeste  Norte  Sudeste   Sul    All\n",
       "Acesso à Internet                                                   \n",
       "Sim                       4.8      12.6    7.8     21.4  11.9   58.4\n",
       "Não                       2.7      12.1    8.6     11.3   7.0   41.6\n",
       "All                       7.5      24.7   16.4     32.6  18.8  100.0"
      ]
     },
     "execution_count": 125,
     "metadata": {},
     "output_type": "execute_result"
    }
   ],
   "source": [
    "regiaointernet=pd.crosstab( dados_não_nulos.V02322,dados_não_nulos.Regiao, margins=True, rownames=['Acesso à Internet'], colnames=['Região'], normalize=True)*100\n",
    "regiaointernet=regiaointernet.round(decimals=1)\n",
    "regiaointernet"
   ]
  },
  {
   "cell_type": "markdown",
   "metadata": {},
   "source": [
    "É possível perceber que a Região Sudeste é a que mais possui acesso à internet. A desigualdade de acesso nas outras regiões,\n",
    "é maior. No gráfico abaixo, é possível visualizar melhor essa relação."
   ]
  },
  {
   "cell_type": "code",
   "execution_count": 126,
   "metadata": {},
   "outputs": [
    {
     "data": {
      "text/plain": [
       "<matplotlib.text.Text at 0x2522265c518>"
      ]
     },
     "execution_count": 126,
     "metadata": {},
     "output_type": "execute_result"
    },
    {
     "data": {
      "image/png": "[encoded data removed]",
      "text/plain": [
       "<matplotlib.figure.Figure at 0x252237fe4a8>"
      ]
     },
     "metadata": {},
     "output_type": "display_data"
    }
   ],
   "source": [
    "plot = regiaointernet.plot(kind='bar')\n",
    "plt.ylabel('Freq.Relativa (em %)')"
   ]
  },
  {
   "cell_type": "markdown",
   "metadata": {},
   "source": [
    "Gráfico que relaciona Acesso à internet Banda Larga com a presença de Internet no Domicílio"
   ]
  },
  {
   "cell_type": "code",
   "execution_count": 127,
   "metadata": {},
   "outputs": [
    {
     "data": {
      "text/html": [
       "<div>\n",
       "<style>\n",
       "    .dataframe thead tr:only-child th {\n",
       "        text-align: right;\n",
       "    }\n",
       "\n",
       "    .dataframe thead th {\n",
       "        text-align: left;\n",
       "    }\n",
       "\n",
       "    .dataframe tbody tr th {\n",
       "        vertical-align: top;\n",
       "    }\n",
       "</style>\n",
       "<table border=\"1\" class=\"dataframe\">\n",
       "  <thead>\n",
       "    <tr style=\"text-align: right;\">\n",
       "      <th>Internet no Domicílio</th>\n",
       "      <th>Sim</th>\n",
       "      <th>Não</th>\n",
       "      <th>All</th>\n",
       "    </tr>\n",
       "    <tr>\n",
       "      <th>Internet Banda Larga</th>\n",
       "      <th></th>\n",
       "      <th></th>\n",
       "      <th></th>\n",
       "    </tr>\n",
       "  </thead>\n",
       "  <tbody>\n",
       "    <tr>\n",
       "      <th>Sim</th>\n",
       "      <td>57.5</td>\n",
       "      <td>0.0</td>\n",
       "      <td>57.5</td>\n",
       "    </tr>\n",
       "    <tr>\n",
       "      <th>Não</th>\n",
       "      <td>0.0</td>\n",
       "      <td>42.5</td>\n",
       "      <td>42.5</td>\n",
       "    </tr>\n",
       "    <tr>\n",
       "      <th>All</th>\n",
       "      <td>57.5</td>\n",
       "      <td>42.5</td>\n",
       "      <td>100.0</td>\n",
       "    </tr>\n",
       "  </tbody>\n",
       "</table>\n",
       "</div>"
      ],
      "text/plain": [
       "Internet no Domicílio   Sim   Não    All\n",
       "Internet Banda Larga                    \n",
       "Sim                    57.5   0.0   57.5\n",
       "Não                     0.0  42.5   42.5\n",
       "All                    57.5  42.5  100.0"
      ]
     },
     "execution_count": 127,
     "metadata": {},
     "output_type": "execute_result"
    }
   ],
   "source": [
    "#Código Crosstab teste ,que relaciona Acesso a internet Banda Larga e Internet no Domicílio\n",
    "\n",
    "BandaLargaDomi=pd.crosstab( dados_não_nulos.V02426,dados_não_nulos.V02322, margins=True, rownames=['Internet Banda Larga'], colnames=['Internet no Domicílio'], normalize=True)*100\n",
    "BandaLargaDomi=BandaLargaDomi.round(decimals=1)\n",
    "BandaLargaDomi\n",
    "\n"
   ]
  },
  {
   "cell_type": "code",
   "execution_count": 128,
   "metadata": {},
   "outputs": [
    {
     "data": {
      "text/plain": [
       "<matplotlib.text.Text at 0x252230e0588>"
      ]
     },
     "execution_count": 128,
     "metadata": {},
     "output_type": "execute_result"
    },
    {
     "data": {
      "image/png": "[encoded data removed]",
      "text/plain": [
       "<matplotlib.figure.Figure at 0x25222e8dcc0>"
      ]
     },
     "metadata": {},
     "output_type": "display_data"
    }
   ],
   "source": [
    "plot = BandaLargaDomi.plot(kind='bar')\n",
    "plt.ylabel('Freq.Relativa (em %)')"
   ]
  },
  {
   "cell_type": "markdown",
   "metadata": {},
   "source": [
    "Analisando os dados do gráfico, percebe-se que 57,5 por cento das pessoas possuem internet Banda Larga."
   ]
  },
  {
   "cell_type": "code",
   "execution_count": 129,
   "metadata": {
    "collapsed": true
   },
   "outputs": [],
   "source": [
    "#Código Crosstab teste ,que relaciona Acesso a internet Banda Larga / Internet no Domicílio e Renda\n",
    "\n",
    "#AcessoRenda=pd.crosstab( BandaLargaDomi,renda_região, margins=True, rownames=['Internet Banda Larga'], colnames=['Renda por região'], normalize=True)*100\n",
    "#AcessoRenda=AcessoRenda.round(decimals=1)\n",
    "#AcessoRenda\n"
   ]
  },
  {
   "cell_type": "code",
   "execution_count": 130,
   "metadata": {
    "collapsed": true
   },
   "outputs": [],
   "source": [
    "#plot = AcessoRenda.plot(kind='bar')\n",
    "#plt.ylabel('Freq.Relativa (em %)')"
   ]
  },
  {
   "cell_type": "code",
   "execution_count": 131,
   "metadata": {},
   "outputs": [
    {
     "data": {
      "text/html": [
       "<div>\n",
       "<style>\n",
       "    .dataframe thead tr:only-child th {\n",
       "        text-align: right;\n",
       "    }\n",
       "\n",
       "    .dataframe thead th {\n",
       "        text-align: left;\n",
       "    }\n",
       "\n",
       "    .dataframe tbody tr th {\n",
       "        vertical-align: top;\n",
       "    }\n",
       "</style>\n",
       "<table border=\"1\" class=\"dataframe\">\n",
       "  <thead>\n",
       "    <tr style=\"text-align: right;\">\n",
       "      <th></th>\n",
       "      <th>V02322</th>\n",
       "      <th>V4105</th>\n",
       "      <th>V4621</th>\n",
       "      <th>V02426</th>\n",
       "      <th>UF</th>\n",
       "      <th>Regiões</th>\n",
       "      <th>Regiao</th>\n",
       "      <th>DomiciliarComBandaLarga</th>\n",
       "    </tr>\n",
       "  </thead>\n",
       "  <tbody>\n",
       "    <tr>\n",
       "      <th>0</th>\n",
       "      <td>Não</td>\n",
       "      <td>URBANA - Cidade ou vila, área urbanizada</td>\n",
       "      <td>800.0</td>\n",
       "      <td>Não</td>\n",
       "      <td>Rondônia</td>\n",
       "      <td>Brasil</td>\n",
       "      <td>Norte</td>\n",
       "      <td>Não</td>\n",
       "    </tr>\n",
       "    <tr>\n",
       "      <th>2</th>\n",
       "      <td>Sim</td>\n",
       "      <td>URBANA - Cidade ou vila, área urbanizada</td>\n",
       "      <td>1150.0</td>\n",
       "      <td>Sim</td>\n",
       "      <td>Rondônia</td>\n",
       "      <td>Brasil</td>\n",
       "      <td>Norte</td>\n",
       "      <td>Sim</td>\n",
       "    </tr>\n",
       "    <tr>\n",
       "      <th>3</th>\n",
       "      <td>Sim</td>\n",
       "      <td>URBANA - Cidade ou vila, área urbanizada</td>\n",
       "      <td>793.0</td>\n",
       "      <td>Sim</td>\n",
       "      <td>Rondônia</td>\n",
       "      <td>Brasil</td>\n",
       "      <td>Norte</td>\n",
       "      <td>Sim</td>\n",
       "    </tr>\n",
       "    <tr>\n",
       "      <th>4</th>\n",
       "      <td>Não</td>\n",
       "      <td>URBANA - Cidade ou vila, área urbanizada</td>\n",
       "      <td>2900.0</td>\n",
       "      <td>Não</td>\n",
       "      <td>Rondônia</td>\n",
       "      <td>Brasil</td>\n",
       "      <td>Norte</td>\n",
       "      <td>Não</td>\n",
       "    </tr>\n",
       "    <tr>\n",
       "      <th>5</th>\n",
       "      <td>Sim</td>\n",
       "      <td>URBANA - Cidade ou vila, área urbanizada</td>\n",
       "      <td>1990.0</td>\n",
       "      <td>Sim</td>\n",
       "      <td>Rondônia</td>\n",
       "      <td>Brasil</td>\n",
       "      <td>Norte</td>\n",
       "      <td>Sim</td>\n",
       "    </tr>\n",
       "  </tbody>\n",
       "</table>\n",
       "</div>"
      ],
      "text/plain": [
       "  V02322                                     V4105   V4621 V02426        UF  \\\n",
       "0    Não  URBANA - Cidade ou vila, área urbanizada   800.0    Não  Rondônia   \n",
       "2    Sim  URBANA - Cidade ou vila, área urbanizada  1150.0    Sim  Rondônia   \n",
       "3    Sim  URBANA - Cidade ou vila, área urbanizada   793.0    Sim  Rondônia   \n",
       "4    Não  URBANA - Cidade ou vila, área urbanizada  2900.0    Não  Rondônia   \n",
       "5    Sim  URBANA - Cidade ou vila, área urbanizada  1990.0    Sim  Rondônia   \n",
       "\n",
       "  Regiões Regiao DomiciliarComBandaLarga  \n",
       "0  Brasil  Norte                     Não  \n",
       "2  Brasil  Norte                     Sim  \n",
       "3  Brasil  Norte                     Sim  \n",
       "4  Brasil  Norte                     Não  \n",
       "5  Brasil  Norte                     Sim  "
      ]
     },
     "execution_count": 131,
     "metadata": {},
     "output_type": "execute_result"
    }
   ],
   "source": [
    "#dados_não_nulos = dados_não_nulos[dados_não_nulos.V4621!=999999999999]\n",
    "#criar uma nova coluna 'Tem sinal TV'\n",
    "dados_não_nulos.loc[(dados_não_nulos.V02322=='Sim') | (dados_não_nulos.V02426=='Sim'), 'DomiciliarComBandaLarga'] = 'Sim'\n",
    "dados_não_nulos.loc[(dados_não_nulos.V02322=='Não') & (dados_não_nulos.V02426=='Não'), 'DomiciliarComBandaLarga'] = 'Não'\n",
    "dados_não_nulos.loc[(dados_não_nulos.V02322=='Sim') & (dados_não_nulos.V02426=='Não'), 'DomiciliarComBandaLarga'] = 'Não'\n",
    "dados_não_nulos.loc[(dados_não_nulos.V02322=='Não') & (dados_não_nulos.V02426=='Sim'), 'DomiciliarComBandaLarga'] = 'Não'\n",
    "dados_não_nulos.head()"
   ]
  },
  {
   "cell_type": "code",
   "execution_count": 132,
   "metadata": {},
   "outputs": [
    {
     "data": {
      "text/html": [
       "<div>\n",
       "<style>\n",
       "    .dataframe thead tr:only-child th {\n",
       "        text-align: right;\n",
       "    }\n",
       "\n",
       "    .dataframe thead th {\n",
       "        text-align: left;\n",
       "    }\n",
       "\n",
       "    .dataframe tbody tr th {\n",
       "        vertical-align: top;\n",
       "    }\n",
       "</style>\n",
       "<table border=\"1\" class=\"dataframe\">\n",
       "  <thead>\n",
       "    <tr style=\"text-align: right;\">\n",
       "      <th>Região</th>\n",
       "      <th>Centroeste</th>\n",
       "      <th>Nordeste</th>\n",
       "      <th>Norte</th>\n",
       "      <th>Sudeste</th>\n",
       "      <th>Sul</th>\n",
       "      <th>All</th>\n",
       "    </tr>\n",
       "    <tr>\n",
       "      <th>Internet Banda Larga Domiciliar</th>\n",
       "      <th></th>\n",
       "      <th></th>\n",
       "      <th></th>\n",
       "      <th></th>\n",
       "      <th></th>\n",
       "      <th></th>\n",
       "    </tr>\n",
       "  </thead>\n",
       "  <tbody>\n",
       "    <tr>\n",
       "      <th>Não</th>\n",
       "      <td>2.7</td>\n",
       "      <td>12.1</td>\n",
       "      <td>8.6</td>\n",
       "      <td>11.3</td>\n",
       "      <td>7.0</td>\n",
       "      <td>41.6</td>\n",
       "    </tr>\n",
       "    <tr>\n",
       "      <th>Sim</th>\n",
       "      <td>4.8</td>\n",
       "      <td>12.6</td>\n",
       "      <td>7.8</td>\n",
       "      <td>21.4</td>\n",
       "      <td>11.9</td>\n",
       "      <td>58.4</td>\n",
       "    </tr>\n",
       "    <tr>\n",
       "      <th>All</th>\n",
       "      <td>7.5</td>\n",
       "      <td>24.7</td>\n",
       "      <td>16.4</td>\n",
       "      <td>32.6</td>\n",
       "      <td>18.8</td>\n",
       "      <td>100.0</td>\n",
       "    </tr>\n",
       "  </tbody>\n",
       "</table>\n",
       "</div>"
      ],
      "text/plain": [
       "Região                           Centroeste  Nordeste  Norte  Sudeste   Sul  \\\n",
       "Internet Banda Larga Domiciliar                                               \n",
       "Não                                     2.7      12.1    8.6     11.3   7.0   \n",
       "Sim                                     4.8      12.6    7.8     21.4  11.9   \n",
       "All                                     7.5      24.7   16.4     32.6  18.8   \n",
       "\n",
       "Região                             All  \n",
       "Internet Banda Larga Domiciliar         \n",
       "Não                               41.6  \n",
       "Sim                               58.4  \n",
       "All                              100.0  "
      ]
     },
     "execution_count": 132,
     "metadata": {},
     "output_type": "execute_result"
    }
   ],
   "source": [
    "#Código Crosstab teste ,que relaciona Acesso a internet Banda Larga + Internet no Domicílio com Região\n",
    "\n",
    "BandaLargaDomiRegião=pd.crosstab( dados_não_nulos.DomiciliarComBandaLarga,dados_não_nulos.Regiao, margins=True, rownames=['Internet Banda Larga Domiciliar'], colnames=['Região'], normalize=True)*100\n",
    "BandaLargaDomiRegião=BandaLargaDomiRegião.round(decimals=1)\n",
    "BandaLargaDomiRegião\n",
    "\n"
   ]
  },
  {
   "cell_type": "markdown",
   "metadata": {},
   "source": [
    "Analisando a tabela, percebe-se que , das pessoas que possuem internet, cerca de 58.4 por cento possuem internet Banda Larga\n",
    "Domiciliar.\n",
    "\n",
    "Abaixo , tem um gráfico ilustrativo dessa relação."
   ]
  },
  {
   "cell_type": "code",
   "execution_count": 133,
   "metadata": {},
   "outputs": [
    {
     "data": {
      "text/plain": [
       "<matplotlib.text.Text at 0x25220aa2ba8>"
      ]
     },
     "execution_count": 133,
     "metadata": {},
     "output_type": "execute_result"
    },
    {
     "data": {
      "image/png": "[encoded data removed]",
      "text/plain": [
       "<matplotlib.figure.Figure at 0x252260f0d30>"
      ]
     },
     "metadata": {},
     "output_type": "display_data"
    }
   ],
   "source": [
    "plot = BandaLargaDomiRegião.plot(kind='bar')\n",
    "plt.ylabel('Freq.Relativa (em %)')"
   ]
  },
  {
   "cell_type": "markdown",
   "metadata": {},
   "source": [
    "Relação da Região (UF) com o Código de Situação Censitária.\n",
    "\n",
    "Na minha análise, darei foco apenas a dois conceitos : Rural e Urbano."
   ]
  },
  {
   "cell_type": "code",
   "execution_count": 134,
   "metadata": {},
   "outputs": [
    {
     "data": {
      "text/html": [
       "<div>\n",
       "<style>\n",
       "    .dataframe thead tr:only-child th {\n",
       "        text-align: right;\n",
       "    }\n",
       "\n",
       "    .dataframe thead th {\n",
       "        text-align: left;\n",
       "    }\n",
       "\n",
       "    .dataframe tbody tr th {\n",
       "        vertical-align: top;\n",
       "    }\n",
       "</style>\n",
       "<table border=\"1\" class=\"dataframe\">\n",
       "  <thead>\n",
       "    <tr style=\"text-align: right;\">\n",
       "      <th></th>\n",
       "      <th>V02322</th>\n",
       "      <th>V4105</th>\n",
       "      <th>V4621</th>\n",
       "      <th>V02426</th>\n",
       "      <th>UF</th>\n",
       "      <th>Regiões</th>\n",
       "      <th>Regiao</th>\n",
       "      <th>DomiciliarComBandaLarga</th>\n",
       "      <th>RegiãoCondiçãoCensitária</th>\n",
       "    </tr>\n",
       "  </thead>\n",
       "  <tbody>\n",
       "    <tr>\n",
       "      <th>0</th>\n",
       "      <td>Não</td>\n",
       "      <td>URBANA - Cidade ou vila, área urbanizada</td>\n",
       "      <td>800.0</td>\n",
       "      <td>Não</td>\n",
       "      <td>Rondônia</td>\n",
       "      <td>Brasil</td>\n",
       "      <td>Norte</td>\n",
       "      <td>Não</td>\n",
       "      <td>Urbana</td>\n",
       "    </tr>\n",
       "    <tr>\n",
       "      <th>2</th>\n",
       "      <td>Sim</td>\n",
       "      <td>URBANA - Cidade ou vila, área urbanizada</td>\n",
       "      <td>1150.0</td>\n",
       "      <td>Sim</td>\n",
       "      <td>Rondônia</td>\n",
       "      <td>Brasil</td>\n",
       "      <td>Norte</td>\n",
       "      <td>Sim</td>\n",
       "      <td>Urbana</td>\n",
       "    </tr>\n",
       "    <tr>\n",
       "      <th>3</th>\n",
       "      <td>Sim</td>\n",
       "      <td>URBANA - Cidade ou vila, área urbanizada</td>\n",
       "      <td>793.0</td>\n",
       "      <td>Sim</td>\n",
       "      <td>Rondônia</td>\n",
       "      <td>Brasil</td>\n",
       "      <td>Norte</td>\n",
       "      <td>Sim</td>\n",
       "      <td>Urbana</td>\n",
       "    </tr>\n",
       "    <tr>\n",
       "      <th>4</th>\n",
       "      <td>Não</td>\n",
       "      <td>URBANA - Cidade ou vila, área urbanizada</td>\n",
       "      <td>2900.0</td>\n",
       "      <td>Não</td>\n",
       "      <td>Rondônia</td>\n",
       "      <td>Brasil</td>\n",
       "      <td>Norte</td>\n",
       "      <td>Não</td>\n",
       "      <td>Urbana</td>\n",
       "    </tr>\n",
       "    <tr>\n",
       "      <th>5</th>\n",
       "      <td>Sim</td>\n",
       "      <td>URBANA - Cidade ou vila, área urbanizada</td>\n",
       "      <td>1990.0</td>\n",
       "      <td>Sim</td>\n",
       "      <td>Rondônia</td>\n",
       "      <td>Brasil</td>\n",
       "      <td>Norte</td>\n",
       "      <td>Sim</td>\n",
       "      <td>Urbana</td>\n",
       "    </tr>\n",
       "  </tbody>\n",
       "</table>\n",
       "</div>"
      ],
      "text/plain": [
       "  V02322                                     V4105   V4621 V02426        UF  \\\n",
       "0    Não  URBANA - Cidade ou vila, área urbanizada   800.0    Não  Rondônia   \n",
       "2    Sim  URBANA - Cidade ou vila, área urbanizada  1150.0    Sim  Rondônia   \n",
       "3    Sim  URBANA - Cidade ou vila, área urbanizada   793.0    Sim  Rondônia   \n",
       "4    Não  URBANA - Cidade ou vila, área urbanizada  2900.0    Não  Rondônia   \n",
       "5    Sim  URBANA - Cidade ou vila, área urbanizada  1990.0    Sim  Rondônia   \n",
       "\n",
       "  Regiões Regiao DomiciliarComBandaLarga RegiãoCondiçãoCensitária  \n",
       "0  Brasil  Norte                     Não                   Urbana  \n",
       "2  Brasil  Norte                     Sim                   Urbana  \n",
       "3  Brasil  Norte                     Sim                   Urbana  \n",
       "4  Brasil  Norte                     Não                   Urbana  \n",
       "5  Brasil  Norte                     Sim                   Urbana  "
      ]
     },
     "execution_count": 134,
     "metadata": {},
     "output_type": "execute_result"
    }
   ],
   "source": [
    "#Código Crosstab teste ,que relaciona Região com Código de Situação Censitária\n",
    "\n",
    "\n",
    "dados_não_nulos.loc[(dados_não_nulos.UF=='Norte') | (dados_não_nulos.V4105==\"URBANA - Cidade ou vila, área urbanizada\"), 'RegiãoCondiçãoCensitária'] = 'Urbana'\n",
    "dados_não_nulos.loc[(dados_não_nulos.UF=='Nordeste') | (dados_não_nulos.V4105==\"URBANA - Cidade ou vila, área urbanizada\"), 'RegiãoCondiçãoCensitária'] = 'Urbana'\n",
    "dados_não_nulos.loc[(dados_não_nulos.UF=='Sul') | (dados_não_nulos.V4105==\"URBANA - Cidade ou vila, área urbanizada\"), 'RegiãoCondiçãoCensitária'] = 'Urbana'\n",
    "dados_não_nulos.loc[(dados_não_nulos.UF=='Sudeste') | (dados_não_nulos.V4105==\"URBANA - Cidade ou vila, área urbanizada\"), 'RegiãoCondiçãoCensitária'] = 'Urbana'\n",
    "dados_não_nulos.loc[(dados_não_nulos.UF=='Centroeste') | (dados_não_nulos.V4105==\"URBANA - Cidade ou vila, área urbanizada\"), 'RegiãoCondiçãoCensitária'] = 'Urbana'\n",
    "\n",
    "\n",
    "dados_não_nulos.loc[(dados_não_nulos.UF=='Norte') | (dados_não_nulos.V4105==\"URBANA - Cidade ou vila, área não urbanizada\"), 'RegiãoCondiçãoCensitária'] = 'Urbana'\n",
    "dados_não_nulos.loc[(dados_não_nulos.UF=='Nordeste') | (dados_não_nulos.V4105==\"URBANA - Cidade ou vila, área não urbanizada\"), 'RegiãoCondiçãoCensitária'] = 'Urbana'\n",
    "dados_não_nulos.loc[(dados_não_nulos.UF=='Sul') | (dados_não_nulos.V4105==\"URBANA - Cidade ou vila, área não urbanizada\"), 'RegiãoCondiçãoCensitária'] = 'Urbana'\n",
    "dados_não_nulos.loc[(dados_não_nulos.UF=='Sudeste') | (dados_não_nulos.V4105==\"URBANA - Cidade ou vila, área não urbanizada\"), 'RegiãoCondiçãoCensitária'] = 'Urbana'\n",
    "dados_não_nulos.loc[(dados_não_nulos.UF=='Centroeste') | (dados_não_nulos.V4105==\"URBANA - Cidade ou vila, área não urbanizada\"), 'RegiãoCondiçãoCensitária'] = 'Urbana'\n",
    "\n",
    "\n",
    "dados_não_nulos.loc[(dados_não_nulos.UF=='Norte') | (dados_não_nulos.V4105==\"URBANA - Área urbana isolada\"), 'RegiãoCondiçãoCensitária'] = 'Urbana'\n",
    "dados_não_nulos.loc[(dados_não_nulos.UF=='Nordeste') | (dados_não_nulos.V4105==\"URBANA - Área urbana isolada\"), 'RegiãoCondiçãoCensitária'] =  'Urbana'\n",
    "dados_não_nulos.loc[(dados_não_nulos.UF=='Sul') | (dados_não_nulos.V4105==\"URBANA - Área urbana isolada\"), 'RegiãoCondiçãoCensitária'] = 'Urbana'\n",
    "dados_não_nulos.loc[(dados_não_nulos.UF=='Sudeste') | (dados_não_nulos.V4105==\"URBANA - Área urbana isolada\"), 'RegiãoCondiçãoCensitária'] = 'Urbana'\n",
    "dados_não_nulos.loc[(dados_não_nulos.UF=='Centroeste') | (dados_não_nulos.V4105==\"URBANA - Área urbana isolada\"), 'RegiãoCondiçãoCensitária'] = 'Urbana'\n",
    "\n",
    "\n",
    "dados_não_nulos.loc[(dados_não_nulos.UF=='Norte') | (dados_não_nulos.V4105==\"RURAL - Aglomerado rural de extensão urbana \"), 'RegiãoCondiçãoCensitária'] = 'Rural'\n",
    "dados_não_nulos.loc[(dados_não_nulos.UF=='Nordeste') | (dados_não_nulos.V4105==\"RURAL - Aglomerado rural de extensão urbana \"), 'RegiãoCondiçãoCensitária'] = 'Rural'\n",
    "dados_não_nulos.loc[(dados_não_nulos.UF=='Sul') | (dados_não_nulos.V4105==\"RURAL - Aglomerado rural de extensão urbana \"), 'RegiãoCondiçãoCensitária'] = 'Rural'\n",
    "dados_não_nulos.loc[(dados_não_nulos.UF=='Sudeste') | (dados_não_nulos.V4105==\"RURAL - Aglomerado rural de extensão urbana \"), 'RegiãoCondiçãoCensitária'] = 'Rural'\n",
    "dados_não_nulos.loc[(dados_não_nulos.UF=='Centroeste') | (dados_não_nulos.V4105==\"RURAL - Aglomerado rural de extensão urbana \"), 'RegiãoCondiçãoCensitária'] = 'Rural'\n",
    "\n",
    "dados_não_nulos.loc[(dados_não_nulos.UF=='Norte') | (dados_não_nulos.V4105==\"RURAL - Aglomerado rural, isolado, povoado\"), 'RegiãoCondiçãoCensitária'] = 'Rural'\n",
    "dados_não_nulos.loc[(dados_não_nulos.UF=='Nordeste') | (dados_não_nulos.V4105==\"RURAL - Aglomerado rural, isolado, povoado\"), 'RegiãoCondiçãoCensitária'] = 'Rural'\n",
    "dados_não_nulos.loc[(dados_não_nulos.UF=='Sul') | (dados_não_nulos.V4105==\"RURAL - Aglomerado rural, isolado, povoado\"), 'RegiãoCondiçãoCensitária'] = 'Rural'\n",
    "dados_não_nulos.loc[(dados_não_nulos.UF=='Sudeste') | (dados_não_nulos.V4105==\"RURAL - Aglomerado rural, isolado, povoado\"), 'RegiãoCondiçãoCensitária'] = 'Rural'\n",
    "dados_não_nulos.loc[(dados_não_nulos.UF=='Centroeste') | (dados_não_nulos.V4105==\"RURAL - Aglomerado rural, isolado, povoado\"), 'RegiãoCondiçãoCensitária'] = 'Rural'\n",
    "\n",
    "dados_não_nulos.loc[(dados_não_nulos.UF=='Norte') | (dados_não_nulos.V4105==\"RURAL - Aglomerado rural, isolado, núcleo\"), 'RegiãoCondiçãoCensitária'] = 'Rural'\n",
    "dados_não_nulos.loc[(dados_não_nulos.UF=='Nordeste') | (dados_não_nulos.V4105==\"RURAL - Aglomerado rural, isolado, núcleo\"), 'RegiãoCondiçãoCensitária'] = 'Rural'\n",
    "dados_não_nulos.loc[(dados_não_nulos.UF=='Sul') | (dados_não_nulos.V4105==\"RURAL - Aglomerado rural, isolado, núcleo\"), 'RegiãoCondiçãoCensitária'] = 'Rural'\n",
    "dados_não_nulos.loc[(dados_não_nulos.UF=='Sudeste') | (dados_não_nulos.V4105==\"RURAL - Aglomerado rural, isolado, núcleo\"), 'RegiãoCondiçãoCensitária'] = 'Rural'\n",
    "dados_não_nulos.loc[(dados_não_nulos.UF=='Centroeste') | (dados_não_nulos.V4105==\"RURAL - Aglomerado rural, isolado, núcleo\"), 'RegiãoCondiçãoCensitária'] = 'Rural'\n",
    "\n",
    "dados_não_nulos.loc[(dados_não_nulos.UF=='Norte') | (dados_não_nulos.V4105==\"RURAL- Aglomerado rural, isolado, outros aglomerados\"), 'RegiãoCondiçãoCensitária'] = 'Rural'\n",
    "dados_não_nulos.loc[(dados_não_nulos.UF=='Nordeste') | (dados_não_nulos.V4105==\"RURAL- Aglomerado rural, isolado', outros aglomerados\"), 'RegiãoCondiçãoCensitária'] = 'Rural'\n",
    "dados_não_nulos.loc[(dados_não_nulos.UF=='Sul') | (dados_não_nulos.V4105==\"RURAL- Aglomerado rural, isolado, outros aglomerados\"), 'RegiãoCondiçãoCensitária'] = 'Rural'\n",
    "dados_não_nulos.loc[(dados_não_nulos.UF=='Sudeste') | (dados_não_nulos.V4105==\"RURAL- Aglomerado rural, isolado, outros aglomerados\"), 'RegiãoCondiçãoCensitária'] = 'Rural'\n",
    "dados_não_nulos.loc[(dados_não_nulos.UF=='Centroeste') | (dados_não_nulos.V4105==\"RURAL- Aglomerado rural, isolado, outros aglomerados\"), 'RegiãoCondiçãoCensitária'] = 'Rural'\n",
    "\n",
    "dados_não_nulos.loc[(dados_não_nulos.UF=='Norte') | (dados_não_nulos.V4105==\"RURAL - Zona rural exclusive aglomerado rural\"), 'RegiãoCondiçãoCensitária'] = 'Rural'\n",
    "dados_não_nulos.loc[(dados_não_nulos.UF=='Nordeste') | (dados_não_nulos.V4105==\"RURAL - Zona rural exclusive aglomerado rural\"), 'RegiãoCondiçãoCensitária'] = 'Rural'\n",
    "dados_não_nulos.loc[(dados_não_nulos.UF=='Sul') | (dados_não_nulos.V4105==\"RURAL - Zona rural exclusive aglomerado rural\"), 'RegiãoCondiçãoCensitária'] = 'Rural'\n",
    "dados_não_nulos.loc[(dados_não_nulos.UF=='Sudeste') | (dados_não_nulos.V4105==\"RURAL - Zona rural exclusive aglomerado rural\"), 'RegiãoCondiçãoCensitária'] = 'Rural'\n",
    "dados_não_nulos.loc[(dados_não_nulos.UF=='Centroeste') | (dados_não_nulos.V4105==\"RURAL - Zona rural exclusive aglomerado rural\"), 'RegiãoCondiçãoCensitária'] = 'Rural'\n",
    "\n",
    "dados_não_nulos.head()\n",
    "\n",
    "\n",
    "\n",
    "\n",
    "\n"
   ]
  },
  {
   "cell_type": "markdown",
   "metadata": {},
   "source": [
    "Gráfico que relaciona o Código de Situação Censitária e Região"
   ]
  },
  {
   "cell_type": "code",
   "execution_count": 135,
   "metadata": {},
   "outputs": [
    {
     "data": {
      "text/plain": [
       "<matplotlib.text.Text at 0x252233bcd68>"
      ]
     },
     "execution_count": 135,
     "metadata": {},
     "output_type": "execute_result"
    },
    {
     "data": {
      "image/png": "[encoded data removed]",
      "text/plain": [
       "<matplotlib.figure.Figure at 0x25222ea1ef0>"
      ]
     },
     "metadata": {},
     "output_type": "display_data"
    }
   ],
   "source": [
    "segurreg09=pd.crosstab(dados_não_nulos.Regiao,dados_não_nulos.RegiãoCondiçãoCensitária,rownames=['Região'],colnames=['Código de Situação Censitária'])\n",
    "plot=segurreg09.plot(kind='bar',figsize=(5,5),legend=True)\n",
    "plt.title('Relação do Código de Situação Censitária e Região')\n"
   ]
  },
  {
   "cell_type": "markdown",
   "metadata": {
    "collapsed": true
   },
   "source": [
    "Gráfico de Renda x Região"
   ]
  },
  {
   "cell_type": "code",
   "execution_count": 136,
   "metadata": {},
   "outputs": [
    {
     "data": {
      "text/plain": [
       "<matplotlib.axes._subplots.AxesSubplot at 0x2521fc42da0>"
      ]
     },
     "execution_count": 136,
     "metadata": {},
     "output_type": "execute_result"
    },
    {
     "data": {
      "image/png": "[encoded data removed]",
      "text/plain": [
       "<matplotlib.figure.Figure at 0x2522354da20>"
      ]
     },
     "metadata": {},
     "output_type": "display_data"
    }
   ],
   "source": [
    "\n",
    "dados_não_nulos.boxplot(column=\"V4621\",  by=\"Regiao\", figsize=(10,10))"
   ]
  },
  {
   "cell_type": "markdown",
   "metadata": {},
   "source": [
    "Gráfico que relaciona Condição Censitária com Renda Percapita Domiciliar"
   ]
  },
  {
   "cell_type": "code",
   "execution_count": 137,
   "metadata": {},
   "outputs": [
    {
     "data": {
      "text/html": [
       "<div>\n",
       "<style>\n",
       "    .dataframe thead tr:only-child th {\n",
       "        text-align: right;\n",
       "    }\n",
       "\n",
       "    .dataframe thead th {\n",
       "        text-align: left;\n",
       "    }\n",
       "\n",
       "    .dataframe tbody tr th {\n",
       "        vertical-align: top;\n",
       "    }\n",
       "</style>\n",
       "<table border=\"1\" class=\"dataframe\">\n",
       "  <thead>\n",
       "    <tr style=\"text-align: right;\">\n",
       "      <th>Região</th>\n",
       "      <th>Rural</th>\n",
       "      <th>Urbana</th>\n",
       "      <th>All</th>\n",
       "    </tr>\n",
       "    <tr>\n",
       "      <th>Renda Percapita domiciliar (em salários mínimos)</th>\n",
       "      <th></th>\n",
       "      <th></th>\n",
       "      <th></th>\n",
       "    </tr>\n",
       "  </thead>\n",
       "  <tbody>\n",
       "    <tr>\n",
       "      <th>[0.0, 234.25)</th>\n",
       "      <td>3.5</td>\n",
       "      <td>7.4</td>\n",
       "      <td>10.9</td>\n",
       "    </tr>\n",
       "    <tr>\n",
       "      <th>[234.25, 468.5)</th>\n",
       "      <td>3.9</td>\n",
       "      <td>16.6</td>\n",
       "      <td>20.5</td>\n",
       "    </tr>\n",
       "    <tr>\n",
       "      <th>[468.5, 937.0)</th>\n",
       "      <td>5.1</td>\n",
       "      <td>30.9</td>\n",
       "      <td>36.0</td>\n",
       "    </tr>\n",
       "    <tr>\n",
       "      <th>[937.0, 1874.0)</th>\n",
       "      <td>2.2</td>\n",
       "      <td>23.3</td>\n",
       "      <td>25.5</td>\n",
       "    </tr>\n",
       "    <tr>\n",
       "      <th>[1874.0, 2771.5)</th>\n",
       "      <td>0.3</td>\n",
       "      <td>6.8</td>\n",
       "      <td>7.2</td>\n",
       "    </tr>\n",
       "    <tr>\n",
       "      <th>All</th>\n",
       "      <td>15.1</td>\n",
       "      <td>84.9</td>\n",
       "      <td>100.0</td>\n",
       "    </tr>\n",
       "  </tbody>\n",
       "</table>\n",
       "</div>"
      ],
      "text/plain": [
       "Região                                            Rural  Urbana    All\n",
       "Renda Percapita domiciliar (em salários mínimos)                      \n",
       "[0.0, 234.25)                                       3.5     7.4   10.9\n",
       "[234.25, 468.5)                                     3.9    16.6   20.5\n",
       "[468.5, 937.0)                                      5.1    30.9   36.0\n",
       "[937.0, 1874.0)                                     2.2    23.3   25.5\n",
       "[1874.0, 2771.5)                                    0.3     6.8    7.2\n",
       "All                                                15.1    84.9  100.0"
      ]
     },
     "execution_count": 137,
     "metadata": {},
     "output_type": "execute_result"
    }
   ],
   "source": [
    "\n",
    "renda_região=pd.crosstab( rendarelativa, dados_não_nulos.RegiãoCondiçãoCensitária, margins=True, rownames=['Renda Percapita domiciliar (em salários mínimos)'], colnames=['Região'], normalize=True)*100\n",
    "renda_região=renda_região.round(decimals=1)\n",
    "renda_região"
   ]
  },
  {
   "cell_type": "code",
   "execution_count": 138,
   "metadata": {},
   "outputs": [
    {
     "data": {
      "text/plain": [
       "<matplotlib.text.Text at 0x2522365ee10>"
      ]
     },
     "execution_count": 138,
     "metadata": {},
     "output_type": "execute_result"
    },
    {
     "data": {
      "image/png": "[encoded data removed]",
      "text/plain": [
       "<matplotlib.figure.Figure at 0x2522359fba8>"
      ]
     },
     "metadata": {},
     "output_type": "display_data"
    }
   ],
   "source": [
    "plot = renda_região.plot(kind='bar')\n",
    "plt.ylabel('Freq.Relativa (em %)')"
   ]
  },
  {
   "cell_type": "code",
   "execution_count": null,
   "metadata": {
    "collapsed": true
   },
   "outputs": [],
   "source": []
  },
  {
   "cell_type": "code",
   "execution_count": null,
   "metadata": {
    "collapsed": true
   },
   "outputs": [],
   "source": []
  },
  {
   "cell_type": "code",
   "execution_count": null,
   "metadata": {
    "collapsed": true
   },
   "outputs": [],
   "source": []
  }
 ],
 "metadata": {
  "kernelspec": {
   "display_name": "Python 3",
   "language": "python",
   "name": "python3"
  },
  "language_info": {
   "codemirror_mode": {
    "name": "ipython",
    "version": 3
   },
   "file_extension": ".py",
   "mimetype": "text/x-python",
   "name": "python",
   "nbconvert_exporter": "python",
   "pygments_lexer": "ipython3",
   "version": "3.6.1"
  }
 },
 "nbformat": 4,
 "nbformat_minor": 2
}
